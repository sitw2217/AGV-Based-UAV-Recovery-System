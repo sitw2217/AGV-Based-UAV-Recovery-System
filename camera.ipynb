{
 "cells": [
  {
   "cell_type": "code",
   "execution_count": 1,
   "metadata": {},
   "outputs": [],
   "source": [
    "from openni import openni2\n",
    "import numpy as np\n",
    "import cv2 as cv\n",
    "import time\n",
    "import route\n",
    "import route_control\n",
    "import socket"
   ]
  },
  {
   "cell_type": "code",
   "execution_count": 4,
   "metadata": {},
   "outputs": [],
   "source": [
    "    cap.release()\n",
    "    dev.close()"
   ]
  },
  {
   "cell_type": "code",
   "execution_count": 2,
   "metadata": {},
   "outputs": [
    {
     "name": "stdout",
     "output_type": "stream",
     "text": [
      "OniDeviceInfo(uri = b'\\\\\\\\?\\\\usb#vid_2bc5&pid_0403&mi_00#8&2372ea8c&0&0000#{c3b5f022-5a42-1980-1909-ea72095601b1}', vendor = b'Orbbec', name = b'Astra', usbVendorId = 11205, usbProductId = 1027)\n",
      "pos is [286, 303]\n",
      "pos is [437, 271]\n",
      "pos is [510, 412]\n",
      "pos is [322, 455]\n"
     ]
    }
   ],
   "source": [
    "#仿射变换矩阵参数调试 取一张图片\n",
    "fpoint= []\n",
    "def getpos1(event, x, y, flags, param):\n",
    "    if event==cv.EVENT_LBUTTONDOWN:\n",
    "        print(\"pos is\", [x,y])\n",
    "        fpoint.append([x,y])\n",
    "        \n",
    "        \n",
    "if __name__ == \"__main__\": \n",
    " \n",
    "    openni2.initialize(\"./Win64-Release/sdk/libs\")\n",
    "    dev = openni2.Device.open_any()\n",
    "    print(dev.get_device_info())\n",
    "\n",
    "    cap = cv.VideoCapture(1)\n",
    "    cap.set(cv.CAP_PROP_FRAME_WIDTH, 640)  # 设置分辨率\n",
    "    cap.set(cv.CAP_PROP_FRAME_HEIGHT, 480)\n",
    "    ret,frame = cap.read() \n",
    "    time.sleep(3)\n",
    "    if  frame is not None :\n",
    "        cv.imshow(\"affine_console\",frame)\n",
    "        cv.setMouseCallback(\"affine_console\", getpos1)\n",
    "        cv.waitKey(0)\n",
    "        cv.destroyAllWindows()\n",
    "    else:\n",
    "        print(\"not ready\")\n",
    "    \n",
    "    \n",
    "\n",
    "   \n",
    "    \n",
    "\n"
   ]
  },
  {
   "cell_type": "code",
   "execution_count": 22,
   "metadata": {},
   "outputs": [
    {
     "data": {
      "text/plain": [
       "True"
      ]
     },
     "execution_count": 22,
     "metadata": {},
     "output_type": "execute_result"
    }
   ],
   "source": [
    "ret"
   ]
  },
  {
   "cell_type": "code",
   "execution_count": 4,
   "metadata": {},
   "outputs": [
    {
     "name": "stdout",
     "output_type": "stream",
     "text": [
      "pos is [120, 21]\n",
      "pos is [1183, 1092]\n"
     ]
    }
   ],
   "source": [
    "#求仿射变换矩阵参数M  \n",
    "xyrange = []\n",
    "def getpos2(event, x, y, flags, param):\n",
    "    if event==cv.EVENT_LBUTTONDOWN:\n",
    "        print(\"pos is\", [x,y])\n",
    "        xyrange.append([x,y])\n",
    "def cvt_pos(pos, cvt_mat_t):\n",
    "    u = pos[0]\n",
    "    v = pos[1]\n",
    "    x = (cvt_mat_t[0][0]*u+cvt_mat_t[0][1]*v+cvt_mat_t[0][2])/(cvt_mat_t[2][0]*u+cvt_mat_t[2][1]*v+cvt_mat_t[2][2])\n",
    "    y = (cvt_mat_t[1][0]*u+cvt_mat_t[1][1]*v+cvt_mat_t[1][2])/(cvt_mat_t[2][0]*u+cvt_mat_t[2][1]*v+cvt_mat_t[2][2])\n",
    "    return [int(x), int(y)]\n",
    "#求变换矩阵M\n",
    "xc,yc = 600,800\n",
    "width,height = 175,175\n",
    "windowsize = 1200\n",
    "\n",
    "min_plane_r = width*71/80\n",
    "\n",
    "\n",
    "pts_o = np.float32([fpoint[0],fpoint[1],fpoint[2],fpoint[3]])\n",
    "pts_d = np.float32([[xc , yc],[xc + width, yc],[xc +width,yc + height],[xc,yc + height]])\n",
    "M = cv.getPerspectiveTransform(pts_o,pts_d)\n",
    "frame_affine = cv.warpPerspective(frame,M, (windowsize,windowsize))\n",
    "\n",
    "cv.namedWindow(\"img_affine\",cv.WINDOW_NORMAL)\n",
    "cv.imshow('img_affine',frame_affine)\n",
    "cv.setMouseCallback(\"img_affine\", getpos2)\n",
    "cv.waitKey(0)\n",
    "cv.destroyAllWindows()#摧毁所有窗口\n",
    "\n",
    "frame_cut = frame_affine[xyrange[0][1]:xyrange[1][1] , xyrange[0][0] :xyrange[1][0]]\n",
    "height = xyrange[1][1] - xyrange[0][1]   #窗口高度\n",
    "cv.imshow('img_affine',frame_cut)\n",
    "cv.waitKey(0)\n",
    "cv.destroyAllWindows()#摧毁所有窗口"
   ]
  },
  {
   "cell_type": "code",
   "execution_count": 5,
   "metadata": {},
   "outputs": [],
   "source": [
    "\n",
    "        \n",
    "\n",
    "red_hsv_low =  np.array([140 ,15 ,150])\n",
    "red_hsv_high = np.array([180 ,150 ,255])\n",
    "orange_hsv_low =  np.array([1 ,100 ,100])\n",
    "orange_hsv_high = np.array([15 ,200 ,255])\n",
    "blue_hsv_low =  np.array([85 ,100 ,55])\n",
    "blue_hsv_high = np.array([105 ,255 ,255])\n",
    "white_hsv_low =  np.array([0 ,0 ,221])\n",
    "white_hsv_high = np.array([180 ,30 ,255])\n",
    "black_hsv_low =  np.array([90 ,130 ,46])\n",
    "black_hsv_high = np.array([100 ,150,120])\n",
    "green_hsv_low =  np.array([45 ,50 ,150])\n",
    "green_hsv_high = np.array([70 ,155,255])\n",
    "yellow_hsv_low =  np.array([22 ,46 ,46])\n",
    "yellow_hsv_high = np.array([28 ,155,255])\n",
    "purple_hsv_low =  np.array([115 ,40 ,146])\n",
    "purple_hsv_high = np.array([155,255,255])\n",
    "\n",
    "\n",
    "def colordetect(img, hsv_low , hsv_high, minsize, blur, kernel_dilate,kernel_erode):\n",
    "    posi =[]\n",
    "    blur0 = cv.medianBlur(img,blur)\n",
    "\n",
    "    hsv = cv.cvtColor(blur0, cv.COLOR_BGR2HSV)\n",
    "\n",
    "    mask = cv.inRange(hsv, hsv_low, hsv_high)\n",
    "    \n",
    "    kernel_d = cv.getStructuringElement(cv.MORPH_RECT, (kernel_dilate, kernel_dilate))\n",
    "    kernel_e = cv.getStructuringElement(cv.MORPH_RECT, (kernel_erode, kernel_erode))\n",
    "\n",
    "    dilated = cv.dilate(mask, kernel_d)\n",
    "    eroded = cv.erode(dilated, kernel_e)\n",
    "    contours, hierarchy = cv.findContours(eroded, cv.RETR_EXTERNAL, cv.CHAIN_APPROX_SIMPLE)\n",
    "\n",
    "    box = []\n",
    "\n",
    "    for i in range(0, len(contours)):    \n",
    "        if cv.contourArea(contours[i])>minsize:\n",
    "            rect = cv.minAreaRect(contours[i])#得出轮廓最小外接矩形左上角坐标及长、宽信息\n",
    "            box = cv.boxPoints(rect) # 获取最小外接矩形的4个顶点坐标(ps: cv2.boxPoints(rect) for OpenCV 3.x)\n",
    "            box = np.int0(box)   # 画出来\n",
    "            posi  = np.average(box,axis = 0)\n",
    "            cv.drawContours(blur0, [box], 0, (255, 0, 0), 1)\n",
    "            break\n",
    "\n",
    "    return posi, mask, blur0,eroded , dilated,box\n",
    "\n",
    "def drawroute(img, rc_car , rc_plane ,  theta_car1,theta_car2 , theta_plane1, theta_plane2 , radius_car,radius_plane, window_height):\n",
    "    radius_car = int(radius_car)\n",
    "\n",
    "    cv.ellipse(img,(int(rc_car[0]),window_height-int(rc_car[1])),(radius_car,radius_car),0,theta_car1,theta_car2,(255,255,0),2)  \n",
    "    cv.ellipse(img,(int(rc_plane[0]),window_height-int(rc_plane[1])),(radius_plane,radius_plane),0,theta_plane1,theta_plane2,(125,255,255),2)\n",
    "    \n",
    "    \n",
    "    \n",
    "\n",
    "#cv.ellipse(image0,(400,400),(100,100),0,30,60,(255,255,0),2)   \n"
   ]
  },
  {
   "cell_type": "code",
   "execution_count": 14,
   "metadata": {},
   "outputs": [
    {
     "name": "stdout",
     "output_type": "stream",
     "text": [
      "[]\n"
     ]
    }
   ],
   "source": [
    "\n",
    "\n",
    "\n",
    "\n",
    "#position , mask_img , blur_img ,eroded,dilated,box = colordetect(frame_cut,  black_hsv_low, black_hsv_high ,300, 3 ,20,20)\n",
    "#position , mask_img , blur_img ,eroded,dilated,box = colordetect(frame_cut,  blue_hsv_low, blue_hsv_high ,15, 1 ,3,3)\n",
    "#position , mask_img , blur_img ,eroded, dilated, box = colordetect(frame_cut,  yellow_hsv_low, yellow_hsv_high ,50,  1 ,5,5)\n",
    "#position , mask_img , blur_img ,eroded, dilated, box = colordetect(frame_cut,  red_hsv_low, red_hsv_high ,20,  1 ,3,1)\n",
    "#position , mask_img , blur_img ,eroded, dilated, box = colordetect(frame_cut, green_hsv_low, green_hsv_high ,30, 1 ,1,1)\n",
    "position , mask_img , blur_img ,eroded, dilated, box = colordetect(frame_cut,  orange_hsv_low, orange_hsv_high ,30,  1 ,1,1)\n",
    "#position , mask_img , blur_img ,eroded, dilated, box = colordetect(frame_cut,  purple_hsv_low, purple_hsv_high ,30,  1 ,3,3)\n",
    "print(position)\n",
    "\n",
    "hsv = cv.cvtColor(frame_cut, cv.COLOR_BGR2HSV)\n",
    "def getposHsv(event, x, y, flags, param):\n",
    "    if event==cv.EVENT_LBUTTONDOWN:\n",
    "        print(\"HSV is\", hsv[y, x])\n",
    "        \n",
    "cv.imshow('img_frame',frame_cut)\n",
    "\n",
    "cv.setMouseCallback(\"img_frame\", getposHsv)\n",
    "cv.imshow(\"imgblur0\", blur_img)\n",
    "cv.imshow(\"mask\", mask_img)\n",
    "cv.imshow(\"erode\", eroded)\n",
    "cv.imshow(\"dilated\", dilated)\n",
    "cv.waitKey(0)\n",
    "cv.destroyAllWindows()"
   ]
  },
  {
   "cell_type": "code",
   "execution_count": 25,
   "metadata": {
    "scrolled": true
   },
   "outputs": [
    {
     "data": {
      "text/plain": [
       "array([705.  , 895.25])"
      ]
     },
     "execution_count": 25,
     "metadata": {},
     "output_type": "execute_result"
    }
   ],
   "source": [
    "position"
   ]
  },
  {
   "cell_type": "code",
   "execution_count": 6,
   "metadata": {},
   "outputs": [],
   "source": [
    "# image0 = cv.imread(r'C:\\Users\\longyuhan\\Desktop\\plane.png')\n",
    "# image0 = cv.resize(image0, (640,480),interpolation=cv.INTER_CUBIC)\n",
    "def calculate(rect , head):\n",
    "    center  = np.average(rect,axis = 0)\n",
    "    obj_edge_mid= []\n",
    "    for i in range(4):\n",
    "        obj_edge_mid.append(( rect[i] + rect[(i+1)%4])/2)\n",
    "\n",
    "    len_head2edgemid =[]\n",
    "    for i in obj_edge_mid:\n",
    "        len_head2edgemid.append(sum((i-head) ** 2))\n",
    "    \n",
    "    ind_cardirct = len_head2edgemid.index(min(len_head2edgemid))\n",
    "    car_dirction  =  obj_edge_mid[ind_cardirct]-center\n",
    "\n",
    "    return center, car_dirction\n",
    " \n",
    "def arrow(image, center,car_dirction,l,f,tipLen):\n",
    "    center = np.array(center)\n",
    "    car_dirction = np.array(car_dirction)\n",
    "    end = np.array(car_dirction*l+center)\n",
    "    cv.arrowedLine(image,\n",
    "                pt1=np.int0(center),\n",
    "                pt2=np.int0(end),\n",
    "                color=f,\n",
    "                thickness=2,\n",
    "                line_type=cv.LINE_8,\n",
    "                shift=0,\n",
    "                tipLength=tipLen)\n",
    "\n",
    "#cen,dirc = calculate(box1,position)\n",
    "#arrow(image0,cen,dirc)\n",
    "# cv.imshow('img_frame',image0)\n",
    "# cv.waitKey(0)\n",
    "# cv.destroyAllWindows()"
   ]
  },
  {
   "cell_type": "code",
   "execution_count": 28,
   "metadata": {},
   "outputs": [],
   "source": [
    "#通信socket调试\n",
    "HOST = '192.168.137.226'  #树莓派ip \n",
    "PORT = 2218 \n",
    "sock = socket.socket(socket.AF_INET, socket.SOCK_STREAM)\n",
    "sock.connect((HOST, PORT))\n",
    "sock.send(bytes(str(\"hello\"),encoding='utf-8'));"
   ]
  },
  {
   "cell_type": "code",
   "execution_count": 26,
   "metadata": {},
   "outputs": [
    {
     "data": {
      "text/plain": [
       "639.5"
      ]
     },
     "execution_count": 26,
     "metadata": {},
     "output_type": "execute_result"
    }
   ],
   "source": [
    "pos_blue[1]"
   ]
  },
  {
   "cell_type": "code",
   "execution_count": 7,
   "metadata": {},
   "outputs": [
    {
     "name": "stdout",
     "output_type": "stream",
     "text": [
      "OniDeviceInfo(uri = b'\\\\\\\\?\\\\usb#vid_2bc5&pid_0403&mi_00#8&2372ea8c&0&0000#{c3b5f022-5a42-1980-1909-ea72095601b1}', vendor = b'Orbbec', name = b'Astra', usbVendorId = 11205, usbProductId = 1027)\n",
      "looping\n",
      "无人机的位置是[374.49097061 520.63963236]\n",
      "无人机的方向向量是[-0.94174191 -0.3363364 ]\n",
      "[[2, 378.811050693692], [3, 12.304360947285128]]\n",
      "len(roots)=2\n",
      "best_index=1\n",
      "dist_list=[478.01682095  76.16646073]\n",
      "最短路径的半径和方向是12.304360947285128,3\n",
      "圆心角为[67.84266624297834, 64.37601139346185]\n",
      "行驶时间为[14.569321862340683, 224.7146716234584]\n",
      "looping\n",
      "无人机的位置是[374.49097061 520.63963236]\n",
      "无人机的方向向量是[-0.94174191 -0.3363364 ]\n",
      "[[2, 378.811050693692], [3, 12.304360947285128]]\n",
      "len(roots)=2\n",
      "best_index=1\n",
      "dist_list=[478.01682095  76.16646073]\n",
      "最短路径的半径和方向是12.304360947285128,3\n",
      "圆心角为[67.84266624297834, 64.37601139346185]\n",
      "行驶时间为[14.569321862340683, 224.7146716234584]\n",
      "plan a route\n"
     ]
    },
    {
     "name": "stderr",
     "output_type": "stream",
     "text": [
      "D:\\anaconda\\envs\\orbbec\\lib\\site-packages\\scipy\\optimize\\_minpack_py.py:175: RuntimeWarning: The iteration is not making good progress, as measured by the \n",
      "  improvement from the last ten iterations.\n",
      "  warnings.warn(msg, RuntimeWarning)\n"
     ]
    },
    {
     "name": "stdout",
     "output_type": "stream",
     "text": [
      "127\n",
      "128\n",
      "129\n",
      "130\n",
      "v_stop 30.95933058785313\n",
      "slide!\n",
      "L>60, 319.377362961205\n",
      "131\n",
      "L<60, 415.80802781667444\n",
      "132\n",
      "L<60, 421.2833495147455\n",
      "133\n",
      "L<60, 421.17068968165125\n",
      "134\n",
      "L<60, 409.887238732309\n",
      "135\n",
      "L<60, 419.3474873535532\n",
      "136\n",
      "L<60, 414.85881230343904\n",
      "137\n",
      "L<60, 413.2155344379837\n",
      "138\n",
      "L<60, 416.1166792653855\n",
      "139\n",
      "L<60, 415.450105221124\n",
      "140\n",
      "L<60, 415.59083434485433\n",
      "141\n",
      "catch!\n",
      "142\n",
      "143\n",
      "144\n",
      "145\n",
      "146\n",
      "147\n",
      "148\n",
      "149\n",
      "150\n",
      "151\n",
      "152\n",
      "looping\n",
      "无人机的位置是[374.49097061 520.63963236]\n",
      "无人机的方向向量是[0.9329231300425794, 0.3600755940515219]\n",
      "[[0, 597.4234949634293], [3, 342.66321245563944]]\n"
     ]
    },
    {
     "ename": "TypeError",
     "evalue": "bad operand type for unary -: 'list'",
     "output_type": "error",
     "traceback": [
      "\u001b[1;31m---------------------------------------------------------------------------\u001b[0m",
      "\u001b[1;31mTypeError\u001b[0m                                 Traceback (most recent call last)",
      "Input \u001b[1;32mIn [7]\u001b[0m, in \u001b[0;36m<cell line: 11>\u001b[1;34m()\u001b[0m\n\u001b[0;32m    208\u001b[0m \u001b[38;5;28;01mif\u001b[39;00m   catch \u001b[38;5;241m==\u001b[39m \u001b[38;5;28;01mTrue\u001b[39;00m :\n\u001b[0;32m    209\u001b[0m     \u001b[38;5;28;01mif\u001b[39;00m   count \u001b[38;5;241m>\u001b[39m catch_point \u001b[38;5;241m+\u001b[39m \u001b[38;5;241m10\u001b[39m : \n\u001b[1;32m--> 210\u001b[0m         \u001b[38;5;28;01mif\u001b[39;00m \u001b[43mroute\u001b[49m\u001b[38;5;241;43m.\u001b[39;49m\u001b[43mget_route\u001b[49m\u001b[43m(\u001b[49m\u001b[43mpos_p\u001b[49m\u001b[43m,\u001b[49m\u001b[43mdirc_p\u001b[49m\u001b[43m,\u001b[49m\u001b[43m \u001b[49m\u001b[43mnp\u001b[49m\u001b[38;5;241;43m.\u001b[39;49m\u001b[43marray\u001b[49m\u001b[43m(\u001b[49m\u001b[43m[\u001b[49m\u001b[43mlength\u001b[49m\u001b[38;5;241;43m/\u001b[39;49m\u001b[38;5;241;43m2\u001b[39;49m\u001b[43m,\u001b[49m\u001b[38;5;241;43m0\u001b[39;49m\u001b[43m]\u001b[49m\u001b[43m)\u001b[49m\u001b[43m,\u001b[49m\u001b[43mnp\u001b[49m\u001b[38;5;241;43m.\u001b[39;49m\u001b[43marray\u001b[49m\u001b[43m(\u001b[49m\u001b[43m[\u001b[49m\u001b[38;5;241;43m0\u001b[39;49m\u001b[43m,\u001b[49m\u001b[38;5;241;43m1\u001b[39;49m\u001b[43m]\u001b[49m\u001b[43m)\u001b[49m\u001b[43m,\u001b[49m\u001b[43mmin_plane_r\u001b[49m\u001b[43m)\u001b[49m \u001b[38;5;241m!=\u001b[39m \u001b[38;5;241m0\u001b[39m:\n\u001b[0;32m    211\u001b[0m             rc_car , rc_plane , theta_car1,theta_car2 , theta_plane1, theta_plane2 , radius_car,dir_c,dir_p,theta  \u001b[38;5;241m=\u001b[39m route\u001b[38;5;241m.\u001b[39mget_route(pos_p,dirc_p, np\u001b[38;5;241m.\u001b[39marray([length\u001b[38;5;241m/\u001b[39m\u001b[38;5;241m2\u001b[39m,\u001b[38;5;241m0\u001b[39m]),np\u001b[38;5;241m.\u001b[39marray([\u001b[38;5;241m0\u001b[39m,\u001b[38;5;241m1\u001b[39m]),min_plane_r)\n\u001b[0;32m    212\u001b[0m         car_p \u001b[38;5;241m=\u001b[39m car_v_reverse\n",
      "File \u001b[1;32m~\\Desktop\\orbbec\\route.py:138\u001b[0m, in \u001b[0;36mget_route\u001b[1;34m(drone_pos, drone_dir, AGV_pos, AGV_dir, r_min)\u001b[0m\n\u001b[0;32m    136\u001b[0m dist_list\u001b[38;5;241m=\u001b[39mnp\u001b[38;5;241m.\u001b[39marray([])\n\u001b[0;32m    137\u001b[0m \u001b[38;5;28;01mfor\u001b[39;00m i \u001b[38;5;129;01min\u001b[39;00m \u001b[38;5;28mrange\u001b[39m(\u001b[38;5;28mlen\u001b[39m(roots)):\n\u001b[1;32m--> 138\u001b[0m     dist_list\u001b[38;5;241m=\u001b[39mnp\u001b[38;5;241m.\u001b[39mappend(dist_list,\u001b[43mcal_path_dist\u001b[49m\u001b[43m(\u001b[49m\u001b[43mAGV_dir\u001b[49m\u001b[43m,\u001b[49m\u001b[43mdrone_dir\u001b[49m\u001b[43m,\u001b[49m\u001b[43mAGV_O\u001b[49m\u001b[43m(\u001b[49m\u001b[43mroots\u001b[49m\u001b[43m[\u001b[49m\u001b[43mi\u001b[49m\u001b[43m]\u001b[49m\u001b[43m[\u001b[49m\u001b[38;5;241;43m1\u001b[39;49m\u001b[43m]\u001b[49m\u001b[43m,\u001b[49m\u001b[43mAGV_pos\u001b[49m\u001b[43m,\u001b[49m\u001b[43mAGV_dir\u001b[49m\u001b[43m)\u001b[49m\u001b[43m,\u001b[49m\u001b[43m[\u001b[49m\u001b[43mR_left\u001b[49m\u001b[43m,\u001b[49m\u001b[43mR_right\u001b[49m\u001b[43m]\u001b[49m\u001b[43m,\u001b[49m\u001b[43mroots\u001b[49m\u001b[43m[\u001b[49m\u001b[43mi\u001b[49m\u001b[43m]\u001b[49m\u001b[43m)\u001b[49m[\u001b[38;5;241m0\u001b[39m])\n\u001b[0;32m    139\u001b[0m \u001b[38;5;66;03m# path_dist=np.min(dist_list)\u001b[39;00m\n\u001b[0;32m    140\u001b[0m \u001b[38;5;28;01mtry\u001b[39;00m:\n",
      "File \u001b[1;32m~\\Desktop\\orbbec\\route.py:54\u001b[0m, in \u001b[0;36mget_route.<locals>.cal_path_dist\u001b[1;34m(AGV_dir, drone_dir, O_pos, R_pos, path)\u001b[0m\n\u001b[0;32m     52\u001b[0m     e\u001b[38;5;241m=\u001b[39m e1 \u001b[38;5;28;01mif\u001b[39;00m \u001b[38;5;28mabs\u001b[39m(cal_angle(e1,OR) \u001b[38;5;241m-\u001b[39m \u001b[38;5;241m90\u001b[39m)\u001b[38;5;241m<\u001b[39merror \u001b[38;5;28;01melse\u001b[39;00m e2\n\u001b[0;32m     53\u001b[0m     theta1\u001b[38;5;241m=\u001b[39mcal_angle(e,AGV_dir)\n\u001b[1;32m---> 54\u001b[0m     theta2\u001b[38;5;241m=\u001b[39mcal_angle(e,\u001b[38;5;241;43m-\u001b[39;49m\u001b[43mdrone_dir\u001b[49m)\n\u001b[0;32m     55\u001b[0m \u001b[38;5;28;01melif\u001b[39;00m path[\u001b[38;5;241m0\u001b[39m] \u001b[38;5;241m==\u001b[39m \u001b[38;5;241m1\u001b[39m:\n\u001b[0;32m     56\u001b[0m     OR\u001b[38;5;241m=\u001b[39mR_pos[\u001b[38;5;241m1\u001b[39m]\u001b[38;5;241m-\u001b[39mO_pos[\u001b[38;5;241m0\u001b[39m]\n",
      "\u001b[1;31mTypeError\u001b[0m: bad operand type for unary -: 'list'"
     ]
    }
   ],
   "source": [
    "HOST = '192.168.137.226'  #树莓派ip \n",
    "PORT = 2218 \n",
    "car_v_pwm = 420\n",
    "car_v_stop = 400\n",
    "car_steer = 360\n",
    "car_v_reverse = 350   #倒车360动  355拉动\n",
    "min_plane_r = 200\n",
    "font = cv.FONT_HERSHEY_SIMPLEX\n",
    "\n",
    "slide_distance = 120\n",
    "if __name__ == \"__main__\": \n",
    "    velocity = 0\n",
    "    v_stop = 0\n",
    "    t1 = 0\n",
    "    R = 200\n",
    "    pos_stop = np.array([0,0])\n",
    "    x1 = np.array([0,0])\n",
    "    gui = False\n",
    "    slide = False\n",
    "    catch = False\n",
    "    reverse = False\n",
    "    goback = False\n",
    "    align = False\n",
    "    step = 180\n",
    "    stop = False\n",
    "    a  = 0\n",
    "    angle = 90    #0放下\n",
    "    arr = [\"forward\",\"left\",\"right\",\"slide\"]\n",
    "    arr_back = [\"back\",\"back left\",\"back right\"]\n",
    "    car_p = car_v_pwm\n",
    "    height = xyrange[1][1] - xyrange[0][1]   #窗口高度\n",
    "    length = xyrange[1][0] - xyrange[0][0]   #窗口宽度\n",
    "    count = 0\n",
    "    control = False\n",
    "    openni2.initialize(\"./Win64-Release/sdk/libs\")\n",
    "    dev = openni2.Device.open_any()\n",
    "    print(dev.get_device_info())\n",
    "\n",
    "    cap = cv.VideoCapture(1)\n",
    "    cap.set(cv.CAP_PROP_FRAME_WIDTH, 640)  # 设置分辨率\n",
    "    cap.set(cv.CAP_PROP_FRAME_HEIGHT, 480)\n",
    "    #cap.set(cv.CAP_PROP_FPS,30)\n",
    "    #cv.SetCaptureProperty(cap, cv.CV_CAP_PROP_FPS,30)\n",
    "    router = False\n",
    "    while True:\n",
    "        \n",
    "        ret,frame = cap.read()     #读取摄像头图像\n",
    "        #print(\"fps:\",cap.get(cv.CAP_PROP_FPS))\n",
    "        while frame is  None:\n",
    "            print(\"not ready\")\n",
    "            time.sleep(3)\n",
    "            \n",
    "            ret,frame = cap.read()\n",
    "            \n",
    "            break\n",
    "        else:\n",
    "            frame_affine = cv.warpPerspective(frame,M, (windowsize,windowsize))    #透视变换\n",
    "            frame_cut = frame_affine[xyrange[0][1]:xyrange[1][1] , xyrange[0][0] :xyrange[1][0]]\n",
    "            \n",
    "            pos_red , mask_img , blur_red ,eroded,dilated,box_red = colordetect(frame_cut,  red_hsv_low, red_hsv_high, 20,  1 ,1,1) #颜色识别\n",
    "            pos_green , mask_img , blur_green ,eroded, dilated, box_black = colordetect(frame_cut, green_hsv_low, green_hsv_high ,20, 1 ,3,1)\n",
    "           \n",
    "            pos_blue , mask_img , blur_blue ,eroded, dilated, box_black = colordetect(frame_cut, blue_hsv_low, blue_hsv_high ,15, 1 ,3,3)\n",
    "            pos_orange , mask_img , blur_orange ,eroded, dilated, box_black = colordetect(frame_cut, orange_hsv_low, orange_hsv_high ,30,  1 ,1,1)\n",
    "           \n",
    "        \n",
    "          #识别目标，计算位置\n",
    "                                    \n",
    "            if len(pos_red)!= 0 and len(pos_green)!= 0 and len(pos_blue)!= 0 and len(pos_orange)!= 0:  \n",
    "                dirc_plane = pos_green-pos_red\n",
    "                dirc_plane = dirc_plane/np.linalg.norm(dirc_plane)\n",
    "                \n",
    "                #标定校准\n",
    "                pos_blue[1] = pos_blue[1] + (height-pos_blue[1])*65/height\n",
    "                pos_orange[1] = pos_orange[1] + (height-pos_orange[1])*65/height\n",
    "                \n",
    "                if reverse == False:\n",
    "                    dirc_car = pos_orange-pos_blue \n",
    "                    pos_car  = pos_blue\n",
    "                else: \n",
    "                        dirc_car = pos_blue-pos_orange\n",
    "                        pos_car  = pos_orange\n",
    "                dirc_car =  dirc_car/np.linalg.norm(dirc_car)\n",
    "                pos_plane  = pos_green      \n",
    "                \n",
    "                velocity = np.linalg.norm(pos_car - x1)/(count - t1)\n",
    "                \n",
    "                \n",
    "               # arrow(frame_cut, x1, pos_car , np.linalg.norm(pos_car - x1),(125, 125, 255),0.2)\n",
    "                \n",
    "                x1 = pos_car\n",
    "                t1 = count\n",
    "                               \n",
    "           \n",
    "                arrow(frame_cut,pos_plane,dirc_plane,50,(255, 255, 0),0.2)                 #画出箭头\n",
    "                arrow(frame_cut,pos_car,dirc_car,50,(125, 255, 255),0.2)\n",
    "                cv.putText(frame_cut,\"AGV (\"+ str(pos_car[0]) + \",\" + str(height - pos_car[1]) + \")\", np.int0(pos_car), font, 0.5, (0, 0,0), 1) #字体大小，字体颜色，字体粗细\n",
    "                cv.putText(frame_cut,\"UAV (\"+ str(pos_plane[0]) + \",\" + str(height - pos_plane[1]) + \")\", np.int0(pos_plane), font, 0.5, (0, 0,0), 1)\n",
    "                cv.putText(frame_cut,\"velocity: \"+ str(velocity), [length-250,50], font, 0.5, (0, 0,0), 1)\n",
    "                cv.putText(frame_cut,\"stop_v: \"+ str(v_stop), [length-250,100], font, 0.5, (0, 0,0), 1)\n",
    "                cv.putText(frame_cut,\"slide_distance: \"+ str(np.linalg.norm(pos_stop-pos_car)), [length-250,150], font, 0.5, (0, 0,0), 1)\n",
    "                cv.putText(frame_cut,\"steer: \"+ str(car_steer), [length-250,200], font, 0.5, (0, 0,0), 1)\n",
    "                \n",
    "                if reverse == False:\n",
    "                    cv.putText(frame_cut, arr[a],np.int0(pos_car+[0,-30]) ,font,0.8,(240,128,128), 2)  \n",
    "                elif slide == False:\n",
    "                    cv.putText(frame_cut, arr_back[a],np.int0(pos_car+[0,-30]) ,font,0.8,(240,128,128), 2)  \n",
    "                else :\n",
    "                    cv.putText(frame_cut, arr[3],np.int0(pos_car+[0,-30]) ,font,0.8,(240,128,128), 2)  \n",
    "\n",
    "        #可视化  \n",
    "            \n",
    "            cv.putText(frame_cut, str(height),[10,20],font,0.6,(0,128,0),2)                    #坐标系可视化\n",
    "            cv.putText(frame_cut, str(length),[length-50,height-10],font,0.6,(0,128,0),2)\n",
    "            arrow(frame_cut,[2,height-2],[1,0],length,(0,128,0),0.02)\n",
    "            arrow(frame_cut,[0,height-2],[0,-1],height,(0,128,0),0.02)\n",
    "            \n",
    "            \n",
    "            \n",
    "            if router is True:\n",
    "                cv.line(frame_cut,np.int0(pos_plane_route), np.int0(pos_slide),(218,165,32), 2 )       #画出滑行轨道       \n",
    "                drawroute(frame_cut, rc_car, rc_plane , theta_car1,theta_car2 , theta_plane1, theta_plane2 , radius_car, np.int0(min_plane_r),height)\n",
    "       \n",
    "            \n",
    "        \n",
    "    \n",
    "            if  router == True :             # 0.1*n \n",
    "                plane_position = [pos_plane[0],height-pos_plane[1]]\n",
    "                car_position = [pos_car[0],height-pos_car[1]]\n",
    "                car_dir = [dirc_car[0],-dirc_car[1]]\n",
    "#                 print(\"小车位置,方向\",car_position , car_dir)\n",
    "#                 print(\"切圆、接驳圆位置，\",rc_car, rc_plane,dir_c,dir_p)\n",
    "#                 print(\"切圆、接驳圆半径\" ,radius_car,min_plane_r)\n",
    "             \n",
    "                    \n",
    "                \n",
    "                a=route_control.which_way_to_go(reverse, step ,pos_c, car_position ,car_dir,np.pi/6, rc_plane, rc_car, min_plane_r ,radius_car,dir_c,dir_p,theta)\n",
    "               \n",
    "                    \n",
    "     \n",
    "                \n",
    "                \n",
    "                \n",
    "                \n",
    "                if control == True:\n",
    "                    sock = socket.socket(socket.AF_INET, socket.SOCK_STREAM)\n",
    "                    sock.connect((HOST, PORT))  \n",
    "                    #print(\"velocity\",velocity)\n",
    "                    R = velocity*velocity/30       \n",
    "                    print(count)\n",
    "                    \n",
    "                    #print(\"R\",R)\n",
    "                    if np.linalg.norm(pos_car - (pos_plane + dirc_plane*75))  < 120  and slide == False and gui == False and catch == False:\n",
    "                        car_p = car_v_stop\n",
    "                        stop_point = count\n",
    "                        #angle = 90\n",
    "                        car_steer = 360\n",
    "                        v_stop  = velocity\n",
    "                        print(\"v_stop\" ,v_stop)\n",
    "                        pos_stop = pos_car\n",
    "                        slide = True\n",
    "                        print(\"slide!\")    #停车滑行\n",
    "                        \n",
    "                    #if slide == True:\n",
    "#                         if np.linalg.norm(pos_car - (pos_plane + dirc_plane*60) ) < 30 and stop == False:\n",
    "#                             car_p = car_v_reverse\n",
    "#                             stop_time = count\n",
    "#                             stop = True\n",
    "#                             print(\"stop\")\n",
    "#                         if stop == True :\n",
    "#                             if count> stop_time +3:\n",
    "#                                 car_p = car_v_stop\n",
    "                                \n",
    "                                \n",
    "                    if slide == True :          \n",
    "                        if  count >  stop_point + 10  :\n",
    "                            catch = True\n",
    "                            angle = 0\n",
    "                            print(\"catch!\")\n",
    "                            catch_point = count\n",
    "                            slide = False\n",
    "#                             if np.linalg.norm(pos_car - (pos_plane + dirc_plane*60) ) < 30  and goback == False:\n",
    "#                                 gui = True\n",
    "#                                 print(\"gui\")\n",
    "#                                 slide = False\n",
    "#                                 print(\"slide_distance\",np.linalg.norm(pos_stop-pos_car))\n",
    "#                             else:\n",
    "#                                 car_p = 355\n",
    "#                                 goback = True\n",
    "#                                 angle = 0\n",
    "#                                 print(\"goback!\")\n",
    "#                                 back_point = count\n",
    "#                                 slide = False\n",
    "#                     if gui == True:\n",
    "#                         if   np.linalg.norm(pos_car - (pos_plane + dirc_plane*60) ) < 30 and count%6 == 5:\n",
    "#                             catch = True\n",
    "#                             gui = False\n",
    "#                             angle = 0\n",
    "#                             print(\"catch!\")\n",
    "#                             catch = True\n",
    "#                             catch_point = count\n",
    "#                         else: \n",
    "#                             if count % 6 <= 0:\n",
    "#                                 print(\"移动\",count)\n",
    "#                                 car_p = car_v_pwm\n",
    "#                             else :   car_p = 415\n",
    "\n",
    "                    if   catch == True :\n",
    "                        if   count > catch_point + 10 : \n",
    "                            if route.get_route(pos_p,dirc_p, np.array([length/2,0]),np.array([0,1]),min_plane_r) != 0:\n",
    "                                rc_car , rc_plane , theta_car1,theta_car2 , theta_plane1, theta_plane2 , radius_car,dir_c,dir_p,theta  = route.get_route(pos_p,dirc_p, np.array([length/2,0]),np.array([0,1]),min_plane_r)\n",
    "                            car_p = car_v_reverse\n",
    "                            reverse = True\n",
    "                            print(\"reverse!\")\n",
    "                            \n",
    "#                     if slide == False and reverse == False and catch == False and gui == False:\n",
    "#                         if count % 10 <= 6:               #调速使匀速\n",
    "#                             car_p = car_v_pwm\n",
    "#                         else:\n",
    "#                             car_p = 415\n",
    "                    #倒车回退\n",
    "#                     if goback == True:\n",
    "#                             a = 0\n",
    "#                             slide = False\n",
    "#                             if count  > back_point + 16:\n",
    "#                                 car_p = car_v_pwm \n",
    "#                                 align = True\n",
    "#                                 goback = False\n",
    "                    \n",
    "                    \n",
    "                    if reverse == True:\n",
    "                        if a == 1:\n",
    "                            a = 2\n",
    "                        elif a == 2:\n",
    "                            a = 1\n",
    "                            \n",
    "                        if car_position[1] < 10:                  #停车到车库\n",
    "                            car_p = car_v_stop\n",
    "                    \n",
    "                    \n",
    "                    \n",
    "                    \n",
    "                    \n",
    "                    \n",
    "                    # 出界控制\n",
    "#                     if (car_position[0] < 100 and car_dir[0]<-0.7 ) or (car_position[0] > length-100 )or car\n",
    "                        \n",
    "            \n",
    "            \n",
    "            \n",
    "                    \n",
    "                    if a == 0:                #前进                                            # 400左  320右\n",
    "                        car_steer = 360\n",
    "#                         print(\"发送前进\")\n",
    "                    elif a == 1:  #左转\n",
    "                        if car_steer <= 420:\n",
    "                            #car_steer = car_steer + 30\n",
    "                            car_steer = 420\n",
    "#                         print(\"发送左转\",car_steer)\n",
    "                    elif a == 2:   #右转 \n",
    "                        if car_steer >= 300:\n",
    "                            #car_steer = car_steer - 30\n",
    "                            car_steer = 300\n",
    "#                         print(\"发送右转\",car_steer)\n",
    "                    \n",
    "    \n",
    "                 #精准对准？\n",
    "                    if   (slide == True or gui == True)  and catch == False and goback == False :\n",
    "                        car_position = np.array(car_position)\n",
    "                        plane_position = np.array(plane_position)\n",
    "                        dirc_p = [-dirc_plane[0], dirc_plane[1]]\n",
    "                        d = np.linalg.norm(car_position-plane_position)\n",
    "                        dirction1 =  (plane_position-car_position)/d\n",
    "                        sin1 = dirction1[0]*dirc_p[1] - dirction1[1]*dirc_p[0]\n",
    "                        l = d * abs(sin1)\n",
    "                        if l > 60:\n",
    "#                             if sin1 >0 : car_steer = 300\n",
    "#                             else : car_steer = 420\n",
    "                            car_steer  = 360 - 80*sin1\n",
    "                            print(\"L>60,\",car_steer)\n",
    "                        else:\n",
    "                             dirc_p = [-dirc_plane[0], dirc_plane[1]]\n",
    "                             sin = car_dir[0]*dirc_p[1] - car_dir[1]*dirc_p[0]\n",
    "                             car_steer  = 360 + 80*sin\n",
    "                             print(\"L<60,\",car_steer)\n",
    "                                \n",
    "\n",
    "\n",
    "                    sock.send(bytes(str(car_p)+\",\"+str(car_steer)+\",\"+str(angle),encoding='utf-8'));\n",
    "                    \n",
    "                    if car_p == car_v_pwm:\n",
    "                        time.sleep(1)\n",
    "                        car_p = car_v_pwm - 1\n",
    "        \n",
    "           # cv.imshow(\"rgb_img\",frame)\n",
    "            cv.imshow(\"frame_green\",blur_green)\n",
    "            cv.imshow(\"frame_red\",blur_red)\n",
    "            cv.imshow(\"frame_blue\",blur_blue)\n",
    "            cv.imshow(\"frame_orange\",blur_orange)\n",
    "            cv.namedWindow('frame', cv.WINDOW_NORMAL)\n",
    "            cv.imshow(\"frame\",frame_cut)\n",
    "            time.sleep(0.1)\n",
    "            count= count+1\n",
    "            key = cv.waitKey(1)\n",
    "                        \n",
    "            #按键控制 q退出 c规划路径 s开始通信 p车制动\n",
    "            \n",
    "            if int(key) == ord('q'):\n",
    "                print(\"quit\")\n",
    "                cv.destroyAllWindows()\n",
    "                sock.close()\n",
    "                break\n",
    "            if int(key) == ord('c') :\n",
    "                pos_plane_route = pos_plane\n",
    "                pos_slide = pos_plane_route + dirc_plane*slide_distance\n",
    "                pos_p = np.array([pos_slide[0],height-pos_slide[1]])\n",
    "                pos_c = np.array([pos_car[0],height-pos_car[1]])  \n",
    "                dirc_p = np.array([dirc_plane[0], -dirc_plane[1]])\n",
    "                dirc_c = np.array([dirc_car[0], -dirc_car[1]])\n",
    "                \n",
    "                if route.get_route(pos_p,dirc_p,pos_c,dirc_c,min_plane_r) != 0:\n",
    "                    rc_car , rc_plane , theta_car1,theta_car2 , theta_plane1, theta_plane2 , radius_car,dir_c,dir_p,theta  = route.get_route(pos_p,dirc_p,pos_c,dirc_c,min_plane_r)\n",
    "                    #rc_car , rc_plane , theta_car1,theta_car2 , theta_plane1, theta_plane2 , radius_car,dir_c,dir_p,theta  = route.get_route(pos_p,dirc_p, np.array([length/2,0]),np.array([0,1]),min_plane_r)\n",
    "\n",
    "                    router = True\n",
    "                    #print(\"路径输入参数：\",pos_p,dirc_p,pos_c,dirc_c,min_plane_r)\n",
    "                    print(\"plan a route\")\n",
    "                \n",
    "                cv.destroyAllWindows()\n",
    "                \n",
    "            if int(key) == ord('s') :\n",
    "                control = not control\n",
    "                \n",
    "                cv.destroyAllWindows()\n",
    "            if int(key) == ord('p') :\n",
    "                if car_p == car_v_stop:\n",
    "                    car_p = car_v_pwm\n",
    "                else :\n",
    "                    car_p = car_v_stop\n",
    "                    v_stop  = velocity\n",
    "                    pos_stop = pos_car\n",
    "                cv.destroyAllWindows()\n",
    "        \n",
    "#     cap.release()\n",
    "#     dev.close()\n",
    "#     cv.destroyAllWindows()"
   ]
  },
  {
   "cell_type": "code",
   "execution_count": 25,
   "metadata": {},
   "outputs": [
    {
     "name": "stdout",
     "output_type": "stream",
     "text": [
      "路径输入参数： [213.71355174 457.52110534] [ 0.50213552 -0.86478895] [514.5 335.5] [-0.97341717 -0.22903933] 177.5\n"
     ]
    }
   ],
   "source": [
    "print(\"路径输入参数：\",pos_p,dirc_p,pos_c,dirc_c,min_plane_r)"
   ]
  },
  {
   "cell_type": "code",
   "execution_count": 47,
   "metadata": {},
   "outputs": [
    {
     "data": {
      "text/plain": [
       "-0.4937336812232105"
      ]
     },
     "execution_count": 47,
     "metadata": {},
     "output_type": "execute_result"
    }
   ],
   "source": [
    "sin"
   ]
  },
  {
   "cell_type": "code",
   "execution_count": 23,
   "metadata": {},
   "outputs": [
    {
     "data": {
      "text/plain": [
       "array([0.93641865, 0.35088474])"
      ]
     },
     "execution_count": 23,
     "metadata": {},
     "output_type": "execute_result"
    }
   ],
   "source": [
    "dirction1"
   ]
  },
  {
   "cell_type": "code",
   "execution_count": 49,
   "metadata": {},
   "outputs": [
    {
     "data": {
      "text/plain": [
       "0.03334727980741498"
      ]
     },
     "execution_count": 49,
     "metadata": {},
     "output_type": "execute_result"
    }
   ],
   "source": [
    "R"
   ]
  },
  {
   "cell_type": "code",
   "execution_count": 66,
   "metadata": {
    "scrolled": true
   },
   "outputs": [
    {
     "ename": "IndexError",
     "evalue": "index 0 is out of bounds for axis 0 with size 0",
     "output_type": "error",
     "traceback": [
      "\u001b[1;31m---------------------------------------------------------------------------\u001b[0m",
      "\u001b[1;31mIndexError\u001b[0m                                Traceback (most recent call last)",
      "Input \u001b[1;32mIn [66]\u001b[0m, in \u001b[0;36m<cell line: 19>\u001b[1;34m()\u001b[0m\n\u001b[0;32m     16\u001b[0m cv\u001b[38;5;241m.\u001b[39mdestroyAllWindows()\n\u001b[0;32m     18\u001b[0m p \u001b[38;5;241m=\u001b[39m np\u001b[38;5;241m.\u001b[39marray(p)\n\u001b[1;32m---> 19\u001b[0m pos_plane \u001b[38;5;241m=\u001b[39m \u001b[43mp\u001b[49m\u001b[43m[\u001b[49m\u001b[38;5;241;43m0\u001b[39;49m\u001b[43m]\u001b[49m\n\u001b[0;32m     20\u001b[0m dirc_plane \u001b[38;5;241m=\u001b[39m p[\u001b[38;5;241m1\u001b[39m] \u001b[38;5;241m-\u001b[39m p[\u001b[38;5;241m0\u001b[39m]\n\u001b[0;32m     21\u001b[0m dirc_plane \u001b[38;5;241m=\u001b[39m dirc_plane\u001b[38;5;241m/\u001b[39mnp\u001b[38;5;241m.\u001b[39mlinalg\u001b[38;5;241m.\u001b[39mnorm(dirc_plane)\n",
      "\u001b[1;31mIndexError\u001b[0m: index 0 is out of bounds for axis 0 with size 0"
     ]
    }
   ],
   "source": [
    "\n",
    "def getpost(event, x, y, flags, param):\n",
    "    if event==cv.EVENT_LBUTTONDOWN:\n",
    "        print(\"pos is\", [x,y])\n",
    "        p.append([x,y])\n",
    "\n",
    "image0 = cv.imread(r'C:\\Users\\longyuhan\\Desktop\\pictures\\plane.png')\n",
    "image0 = cv.resize(image0, (640, 680))\n",
    "radius_plane = 250\n",
    "\n",
    "p = []\n",
    "\n",
    "\n",
    "cv.imshow(\"df\",image0)\n",
    "cv.setMouseCallback(\"df\", getpost)\n",
    "cv.waitKey(0)\n",
    "cv.destroyAllWindows()\n",
    "\n",
    "p = np.array(p)\n",
    "pos_plane = p[0]\n",
    "dirc_plane = p[1] - p[0]\n",
    "dirc_plane = dirc_plane/np.linalg.norm(dirc_plane)\n",
    "pos_car = p[2]\n",
    "dirc_car = p[3] - p[2]\n",
    "dirc_car = dirc_car/np.linalg.norm(dirc_car)\n",
    "\n",
    "arrow(image0,pos_plane ,dirc_plane ,50,(0, 125, 0),0.2)\n",
    "arrow(image0,pos_car, dirc_car, 50,(155, 155, 0),0.2)\n",
    "\n",
    "pos_plane[1] = 680 - pos_plane[1] \n",
    "dirc_plane[1] = -dirc_plane[1]\n",
    "pos_car[1] = 680 - pos_car[1] \n",
    "dirc_car[1] = -dirc_car[1]\n",
    "\n",
    "rc_car , rc_plane , theta_car1,theta_car2 ,theta_plane1, theta_plane2 ,radius_car,dir_c,dir_p,theta  = route.get_route(pos_plane,dirc_plane,pos_car,dirc_car,radius_plane)\n",
    "print(\"路径的输入：飞机、小车位置、方向\",pos_plane,dirc_plane,pos_car,dirc_car)\n",
    "print(\"路径参数\",dir_c,dir_p)\n",
    "drawroute(image0, rc_car, rc_plane , theta_car1,theta_car2 , theta_plane1, theta_plane2 , radius_car,radius_plane,680)\n",
    "print(\"rc_car\",rc_car)\n",
    "print(\"rc_plane\",rc_plane)\n",
    "print(\"起点坐标\",pos_car)\n",
    "print(\"飞机坐标\",pos_plane)\n",
    "img = image0\n",
    "p = []\n",
    "while True:\n",
    "\n",
    "\n",
    "\n",
    "    cv.imshow(\"df\",img)\n",
    "    cv.setMouseCallback(\"df\", getpost)\n",
    "    key = cv.waitKey(1)\n",
    "    if int(key) == ord('c') :\n",
    "        img = image0\n",
    "        test_x = p[0][0]\n",
    "        test_y = 680- p[0][1]\n",
    "        print(\"小车坐标\",test_x,test_y)\n",
    "        p = np.array(p)\n",
    "\n",
    "        test_dir = np.array([p[1][0]-p[0][0],p[0][1]-p[1][1]])\n",
    "        test_dir = test_dir/np.linalg.norm(test_dir)\n",
    "        print(\"小车方向\",test_dir)\n",
    "\n",
    "        arrow(img,p[0],np.array([test_dir[0],-test_dir[1]]),50,(255, 255, 0),0.2)\n",
    "\n",
    "        a=route_control.which_way_to_go(False,150,pos_car,[test_x,test_y],test_dir,np.pi/6, rc_plane ,rc_car,radius_plane ,radius_car,dir_c,dir_p,theta)\n",
    "        print(\"路径控制输入参数\",rc_plane,rc_car,radius_plane,radius_car,dir_c,dir_p)\n",
    "        print(\"选择方向\",a)\n",
    "        p = []\n",
    "        cv.destroyAllWindows()\n",
    "\n",
    "    if int(key) == ord('q'):\n",
    "        print(\"quit\")\n",
    "        cv.destroyAllWindows()\n",
    "\n",
    "        break\n",
    "\n",
    "\n",
    "\n",
    "        \n"
   ]
  },
  {
   "cell_type": "code",
   "execution_count": 9,
   "metadata": {},
   "outputs": [
    {
     "data": {
      "text/plain": [
       "array([173, 140])"
      ]
     },
     "execution_count": 9,
     "metadata": {},
     "output_type": "execute_result"
    }
   ],
   "source": [
    "pos_car"
   ]
  },
  {
   "cell_type": "code",
   "execution_count": 37,
   "metadata": {
    "scrolled": true
   },
   "outputs": [
    {
     "name": "stdout",
     "output_type": "stream",
     "text": [
      "looping\n",
      "无人机的位置是[213.71355174, 457.52110534]\n",
      "无人机的方向向量是[ 0.50213552 -0.86478895]\n",
      "[[2, 281.4516907802152], [3, 280.5648551469498]]\n",
      "len(roots)=2\n",
      "best_index=0\n",
      "dist_list=[110.23461691 465.15435365]\n",
      "最短路径的半径和方向是281.4516907802152,2\n",
      "圆心角为[66.06082776771034, 7.038306333782273]\n",
      "行驶时间为[324.5078752321948, 21.804387423703723]\n",
      "路径参数 [450.03649332 609.46990833] [367.21359037 546.65016014] 0 0\n"
     ]
    }
   ],
   "source": [
    "def getpostc(event, x, y, flags, param):\n",
    "    if event==cv.EVENT_LBUTTONDOWN:\n",
    "        print(\"pos is\", [x,y])\n",
    "        \n",
    "image1 = cv.imread(r'C:\\Users\\longyuhan\\Desktop\\pictures\\plane.png')\n",
    "image1 = cv.resize(image1, (640, 680))\n",
    "rc_car , rc_plane , theta_car1,theta_car2 ,theta_plane1, theta_plane2 ,radius_car,dir_c,dir_p  = route.get_route([213.71355174,457.52110534],np.array([ 0.50213552,-0.86478895]),[514.5, 335.5],np.array([-0.97341717 ,-0.22903933]) ,177.5)\n",
    "print(\"路径参数\",rc_car , rc_plane,dir_c,dir_p)\n",
    "drawroute(image1, rc_car, rc_plane , theta_car1,theta_car2 , theta_plane1, theta_plane2 , radius_car,radius_plane,680)\n",
    "\n",
    "cv.imshow(\"df\",image1)\n",
    "cv.setMouseCallback(\"df\", getpostc)\n",
    "cv.waitKey(0)\n",
    "cv.destroyAllWindows()\n"
   ]
  },
  {
   "cell_type": "code",
   "execution_count": 8,
   "metadata": {},
   "outputs": [
    {
     "data": {
      "text/plain": [
       "<module 'route_control' from 'C:\\\\Users\\\\longyuhan\\\\Desktop\\\\orbbec\\\\route_control.py'>"
      ]
     },
     "execution_count": 8,
     "metadata": {},
     "output_type": "execute_result"
    }
   ],
   "source": [
    "import route_control\n",
    "import imp\n",
    "imp.reload(route_control)"
   ]
  },
  {
   "cell_type": "code",
   "execution_count": 31,
   "metadata": {},
   "outputs": [
    {
     "data": {
      "text/plain": [
       "<module 'route' from 'C:\\\\Users\\\\longyuhan\\\\Desktop\\\\orbbec\\\\route.py'>"
      ]
     },
     "execution_count": 31,
     "metadata": {},
     "output_type": "execute_result"
    }
   ],
   "source": [
    "import route\n",
    "import imp\n",
    "imp.reload(route)"
   ]
  },
  {
   "cell_type": "code",
   "execution_count": 23,
   "metadata": {
    "scrolled": true
   },
   "outputs": [
    {
     "name": "stdout",
     "output_type": "stream",
     "text": [
      "选择方向 2\n",
      "pos is [414, 491]\n",
      "pos is [346, 493]\n",
      "小车坐标 414 189\n",
      "小车方向 [-0.99956775 -0.02939905]\n",
      "当前逼近的是切圆\n",
      "2\n"
     ]
    }
   ],
   "source": [
    "def getpost(event, x, y, flags, param):\n",
    "    if event==cv.EVENT_LBUTTONDOWN:\n",
    "        print(\"pos is\", [x,y])\n",
    "        p.append([x,y])\n",
    "p = []\n",
    "image2 = cv.imread(r'C:\\Users\\longyuhan\\Desktop\\pictures\\plane.png')\n",
    "image2 = cv.resize(image2, (640, 680))\n",
    "\n",
    "cv.circle(image2,(507, 680-523),324,(0,0,0),2)\n",
    "cv.circle(image2,(45, 680-326),177,(0,125,0),2)\n",
    "\n",
    "\n",
    "\n",
    "print(\"选择方向\",a)\n",
    "cv.imshow(\"df\",image2)\n",
    "cv.setMouseCallback(\"df\", getpost)\n",
    "cv.waitKey(0)\n",
    "cv.destroyAllWindows()\n",
    "\n",
    "test_x = p[0][0]\n",
    "test_y = 680- p[0][1]\n",
    "print(\"小车坐标\",test_x,test_y)\n",
    "\n",
    "\n",
    "test_dir = np.array([p[1][0]-p[0][0],p[0][1]-p[1][1]])\n",
    "test_dir = test_dir/np.linalg.norm(test_dir)\n",
    "print(\"小车方向\",test_dir)\n",
    "\n",
    "#a=route_control.which_way_to_go([test_x,test_y],test_dir,np.pi/6,[367.21358976,546.65015968] ,[450.03649241, 609.46990728],177 ,324,0,1)\n",
    "a=route_control.which_way_to_go([345,150],[-0.98,0.149],np.pi/6,[507.07369566,523.25282617], [45.03479241,326.17736814],177 ,324,0,1)\n",
    "#a=route_control.which_way_to_go(car_position ,car_dir,np.pi/6,rc_car, rc_plane, min_plane_r ,radius_car,dir_c,dir_p)\n",
    "\n",
    "print(a)"
   ]
  },
  {
   "cell_type": "code",
   "execution_count": 1,
   "metadata": {},
   "outputs": [
    {
     "name": "stdout",
     "output_type": "stream",
     "text": [
      "1\n"
     ]
    }
   ],
   "source": [
    "b = 1\n",
    "a = b\n",
    "b = b+2\n",
    "print(a)"
   ]
  },
  {
   "cell_type": "code",
   "execution_count": 22,
   "metadata": {},
   "outputs": [
    {
     "ename": "TypeError",
     "evalue": "get_route() missing 1 required positional argument: 'r_min'",
     "output_type": "error",
     "traceback": [
      "\u001b[1;31m---------------------------------------------------------------------------\u001b[0m",
      "\u001b[1;31mTypeError\u001b[0m                                 Traceback (most recent call last)",
      "Input \u001b[1;32mIn [22]\u001b[0m, in \u001b[0;36m<cell line: 20>\u001b[1;34m()\u001b[0m\n\u001b[0;32m     18\u001b[0m \u001b[38;5;66;03m#cv.ellipse(image0,(400,400),(100,100),0,30,60,(255,255,0),2)   \u001b[39;00m\n\u001b[0;32m     19\u001b[0m radius_plane \u001b[38;5;241m=\u001b[39m \u001b[38;5;241m71\u001b[39m\n\u001b[1;32m---> 20\u001b[0m rc_car , rc_plane ,  theta_car1,theta_car2 , theta_plane1, theta_plane2 , radius_car,dir_c,dir_p  \u001b[38;5;241m=\u001b[39m \u001b[43mroute\u001b[49m\u001b[38;5;241;43m.\u001b[39;49m\u001b[43mget_route\u001b[49m\u001b[43m(\u001b[49m\u001b[43mdrone_pos\u001b[49m\u001b[43m,\u001b[49m\u001b[43mdrone_dir\u001b[49m\u001b[43m,\u001b[49m\u001b[43mAGV_pos\u001b[49m\u001b[43m,\u001b[49m\u001b[43mAGV_dir\u001b[49m\u001b[43m)\u001b[49m\n\u001b[0;32m     21\u001b[0m drawroute(image0, rc_car , rc_plane   ,  theta_car1,theta_car2 , theta_plane1, theta_plane2 , radius_car,radius_plane,\u001b[38;5;241m750\u001b[39m)\n\u001b[0;32m     23\u001b[0m cv\u001b[38;5;241m.\u001b[39mimshow(\u001b[38;5;124m'\u001b[39m\u001b[38;5;124mimg_frame\u001b[39m\u001b[38;5;124m'\u001b[39m,image0)\n",
      "\u001b[1;31mTypeError\u001b[0m: get_route() missing 1 required positional argument: 'r_min'"
     ]
    }
   ],
   "source": [
    "image0 = cv.imread(r'C:\\Users\\longyuhan\\Desktop\\pictures\\plane.png')\n",
    "drone_pos=np.array([np.random.rand(1)[0]*180+200,np.random.rand(1)[0]*180+200])\n",
    "theta=np.random.rand(1)[0]*np.pi*2\n",
    "drone_dir=np.array([np.cos(theta),np.sin(theta)])\n",
    "\n",
    "#从场端获取车头坐标与方位\n",
    "AGV_pos=[350,30  ]\n",
    "AGV_dir=[0,1]\n",
    "def drawroute(img, rc_car , rc_plane ,  theta_car1,theta_car2 , theta_plane1, theta_plane2 , radius_car,radius_plane, window_height):\n",
    "    radius_car = int(radius_car)\n",
    "\n",
    "    cv.ellipse(img,(int(rc_car[0]),window_height-int(rc_car[1])),(radius_car,radius_car),0,theta_car1,theta_car2,(255,255,0),2)  \n",
    "    cv.ellipse(img,(int(rc_plane[0]),window_height-int(rc_plane[1])),(radius_plane,radius_plane),0,theta_plane1,theta_plane2,(125,255,255),2)\n",
    "    \n",
    "    \n",
    "    \n",
    "\n",
    "#cv.ellipse(image0,(400,400),(100,100),0,30,60,(255,255,0),2)   \n",
    "radius_plane = 71\n",
    "rc_car , rc_plane ,  theta_car1,theta_car2 , theta_plane1, theta_plane2 , radius_car,dir_c,dir_p  = route.get_route(drone_pos,drone_dir,AGV_pos,AGV_dir)\n",
    "drawroute(image0, rc_car , rc_plane   ,  theta_car1,theta_car2 , theta_plane1, theta_plane2 , radius_car,radius_plane,750)\n",
    "\n",
    "cv.imshow('img_frame',image0)\n",
    "cv.waitKey(0)\n",
    "cv.destroyAllWindows()"
   ]
  },
  {
   "cell_type": "code",
   "execution_count": 7,
   "metadata": {},
   "outputs": [
    {
     "data": {
      "text/plain": [
       "1"
      ]
     },
     "execution_count": 7,
     "metadata": {},
     "output_type": "execute_result"
    }
   ],
   "source": [
    "dir_p"
   ]
  },
  {
   "cell_type": "code",
   "execution_count": 10,
   "metadata": {},
   "outputs": [
    {
     "name": "stdout",
     "output_type": "stream",
     "text": [
      "q\n"
     ]
    }
   ],
   "source": [
    "image0 = cv.imread(r'C:\\Users\\longyuhan\\Desktop\\pictures\\plane.jpg')\n",
    "while True :\n",
    "    cv.imshow('img_frame',image0)\n",
    "    key = cv.waitKey(1)\n",
    "    if int(key) == ord('q'):\n",
    "            print(\"q\")\n",
    "            cv.destroyAllWindows()\n",
    "            break\n",
    "    if int(key) == ord('m'):\n",
    "            print(\"m\")\n",
    "            cv.destroyAllWindows()\n",
    "        \n"
   ]
  },
  {
   "cell_type": "code",
   "execution_count": 12,
   "metadata": {},
   "outputs": [
    {
     "data": {
      "text/plain": [
       "1856"
      ]
     },
     "execution_count": 12,
     "metadata": {},
     "output_type": "execute_result"
    }
   ],
   "source": [
    "image0.shape[0]"
   ]
  },
  {
   "cell_type": "code",
   "execution_count": 15,
   "metadata": {},
   "outputs": [
    {
     "data": {
      "text/plain": [
       "315.0"
      ]
     },
     "execution_count": 15,
     "metadata": {},
     "output_type": "execute_result"
    }
   ],
   "source": [
    "arctan(1,-1)"
   ]
  },
  {
   "cell_type": "code",
   "execution_count": 11,
   "metadata": {},
   "outputs": [],
   "source": [
    "np.arctan2(1,-1)*180/np.pi\n",
    "#np.arctan2(y,x)*180/np.pi\n",
    "def arctan(x,y):\n",
    "    if np.arctan2(y,x)*180/np.pi >= 0:\n",
    "        return np.arctan2(y,x)*180/np.pi\n",
    "    else :\n",
    "        return np.arctan2(y,x)*180/np.pi + 360"
   ]
  },
  {
   "cell_type": "code",
   "execution_count": 4,
   "metadata": {},
   "outputs": [],
   "source": [
    "import numpy as np"
   ]
  },
  {
   "cell_type": "code",
   "execution_count": 4,
   "metadata": {},
   "outputs": [
    {
     "data": {
      "text/plain": [
       "0"
      ]
     },
     "execution_count": 4,
     "metadata": {},
     "output_type": "execute_result"
    }
   ],
   "source": [
    "#x1y2-x2y1"
   ]
  },
  {
   "cell_type": "code",
   "execution_count": null,
   "metadata": {},
   "outputs": [],
   "source": []
  }
 ],
 "metadata": {
  "kernelspec": {
   "display_name": "Python [conda env:orbbec]",
   "language": "python",
   "name": "conda-env-orbbec-py"
  },
  "language_info": {
   "codemirror_mode": {
    "name": "ipython",
    "version": 3
   },
   "file_extension": ".py",
   "mimetype": "text/x-python",
   "name": "python",
   "nbconvert_exporter": "python",
   "pygments_lexer": "ipython3",
   "version": "3.8.5"
  }
 },
 "nbformat": 4,
 "nbformat_minor": 4
}
